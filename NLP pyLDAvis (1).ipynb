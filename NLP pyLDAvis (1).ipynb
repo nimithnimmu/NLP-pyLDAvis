{
 "cells": [
  {
   "cell_type": "markdown",
   "id": "f254f661",
   "metadata": {},
   "source": [
    "pip install nltk gensim pyLDAvis pandas matplotlib\n"
   ]
  },
  {
   "cell_type": "code",
   "execution_count": 2,
   "id": "d55945dc",
   "metadata": {},
   "outputs": [
    {
     "name": "stderr",
     "output_type": "stream",
     "text": [
      "[nltk_data] Downloading package stopwords to C:\\Users\\Nimith\n",
      "[nltk_data]     Narapareddy\\AppData\\Roaming\\nltk_data...\n",
      "[nltk_data]   Package stopwords is already up-to-date!\n"
     ]
    },
    {
     "data": {
      "text/html": [
       "\n",
       "<link rel=\"stylesheet\" type=\"text/css\" href=\"https://cdn.jsdelivr.net/gh/bmabey/pyLDAvis@3.4.0/pyLDAvis/js/ldavis.v1.0.0.css\">\n",
       "\n",
       "\n",
       "<div id=\"ldavis_el3022815993795556006822939607\" style=\"background-color:white;\"></div>\n",
       "<script type=\"text/javascript\">\n",
       "\n",
       "var ldavis_el3022815993795556006822939607_data = {\"mdsDat\": {\"x\": [0.012134724450915738, -0.07357265372560311, 0.0614379292746874], \"y\": [-0.07658066126972991, 0.027965748641447203, 0.04861491262828275], \"topics\": [1, 2, 3], \"cluster\": [1, 1, 1], \"Freq\": [30.039783527870494, 39.836755351133874, 30.123461120995632]}, \"tinfo\": {\"Term\": [\"climate\", \"polar\", \"bears\", \"arctic\", \"dictate\", \"found\", \"affecting\", \"warming\", \"experiencing\", \"change\", \"practices\", \"economic\", \"policies\", \"public\", \"crucial\", \"mitigation\", \"impact\", \"debates\", \"dictate\", \"found\", \"arctic\", \"bears\", \"polar\", \"public\", \"policies\", \"practices\", \"economic\", \"experiencing\", \"warming\", \"affecting\", \"debates\", \"impact\", \"mitigation\", \"crucial\", \"change\", \"climate\", \"crucial\", \"mitigation\", \"impact\", \"debates\", \"change\", \"climate\", \"economic\", \"practices\", \"policies\", \"public\", \"dictate\", \"warming\", \"experiencing\", \"found\", \"affecting\", \"arctic\", \"bears\", \"polar\", \"affecting\", \"warming\", \"experiencing\", \"climate\", \"polar\", \"bears\", \"arctic\", \"change\", \"found\", \"dictate\", \"debates\", \"impact\", \"mitigation\", \"crucial\", \"public\", \"policies\", \"economic\", \"practices\"], \"Freq\": [3.0, 1.0, 1.0, 1.0, 1.0, 1.0, 1.0, 1.0, 1.0, 2.0, 1.0, 1.0, 1.0, 1.0, 1.0, 1.0, 1.0, 1.0, 0.8014811181756476, 0.80123020048755, 0.7982028722019572, 0.7971220528213556, 0.7971164798569156, 0.8020381460430435, 0.8020120941128904, 0.8018893546069117, 0.8018743814614887, 0.20095975482173678, 0.200953258625236, 0.20090318587546374, 0.20090914491876552, 0.20089836828270993, 0.20090135619737956, 0.20089427248956732, 0.20125290618010833, 0.2012960798684805, 0.884392293234509, 0.8843791150053687, 0.8838177046355757, 0.883771046581052, 1.5556383055967755, 1.5474223920645305, 0.8847538931570672, 0.8847504205156046, 0.8839687200181561, 0.8838063072482112, 0.2216860404814006, 0.22166976803967503, 0.2216692115266201, 0.22163513066713744, 0.22165227126922865, 0.22201355954447613, 0.22201106636599013, 0.22198976304624818, 0.8016253472188872, 0.8015593626586864, 0.8015533028521373, 1.4047560751041148, 0.8067152480641719, 0.8066904701885047, 0.8056071114399018, 0.7956107198942171, 0.20118185738063277, 0.20088479219736144, 0.20146399187387906, 0.2014325313782119, 0.20092064605277665, 0.2009157477091495, 0.2019111214332193, 0.20178992530223824, 0.20121612895322685, 0.20120429549766022], \"Total\": [3.0, 1.0, 1.0, 1.0, 1.0, 1.0, 1.0, 1.0, 1.0, 2.0, 1.0, 1.0, 1.0, 1.0, 1.0, 1.0, 1.0, 1.0, 1.2240519508544097, 1.2240471885353201, 1.8258235431863352, 1.8258235893758505, 1.8258214909673356, 1.8877555747244739, 1.8877707394332846, 1.8878440706201767, 1.8878444035717827, 1.2241822692004942, 1.2241823893235975, 1.2241808043635796, 1.2861441833736964, 1.2861486042964976, 1.2862011172555248, 1.2862023134332257, 2.5525019316711006, 3.153474547037126, 1.2862023134332257, 1.2862011172555248, 1.2861486042964976, 1.2861441833736964, 2.5525019316711006, 3.153474547037126, 1.8878444035717827, 1.8878440706201767, 1.8877707394332846, 1.8877555747244739, 1.2240519508544097, 1.2241823893235975, 1.2241822692004942, 1.2240471885353201, 1.2241808043635796, 1.8258235431863352, 1.8258235893758505, 1.8258214909673356, 1.2241808043635796, 1.2241823893235975, 1.2241822692004942, 3.153474547037126, 1.8258214909673356, 1.8258235893758505, 1.8258235431863352, 2.5525019316711006, 1.2240471885353201, 1.2240519508544097, 1.2861441833736964, 1.2861486042964976, 1.2862011172555248, 1.2862023134332257, 1.8877555747244739, 1.8877707394332846, 1.8878444035717827, 1.8878440706201767], \"Category\": [\"Default\", \"Default\", \"Default\", \"Default\", \"Default\", \"Default\", \"Default\", \"Default\", \"Default\", \"Default\", \"Default\", \"Default\", \"Default\", \"Default\", \"Default\", \"Default\", \"Default\", \"Default\", \"Topic1\", \"Topic1\", \"Topic1\", \"Topic1\", \"Topic1\", \"Topic1\", \"Topic1\", \"Topic1\", \"Topic1\", \"Topic1\", \"Topic1\", \"Topic1\", \"Topic1\", \"Topic1\", \"Topic1\", \"Topic1\", \"Topic1\", \"Topic1\", \"Topic2\", \"Topic2\", \"Topic2\", \"Topic2\", \"Topic2\", \"Topic2\", \"Topic2\", \"Topic2\", \"Topic2\", \"Topic2\", \"Topic2\", \"Topic2\", \"Topic2\", \"Topic2\", \"Topic2\", \"Topic2\", \"Topic2\", \"Topic2\", \"Topic3\", \"Topic3\", \"Topic3\", \"Topic3\", \"Topic3\", \"Topic3\", \"Topic3\", \"Topic3\", \"Topic3\", \"Topic3\", \"Topic3\", \"Topic3\", \"Topic3\", \"Topic3\", \"Topic3\", \"Topic3\", \"Topic3\", \"Topic3\"], \"logprob\": [18.0, 17.0, 16.0, 15.0, 14.0, 13.0, 12.0, 11.0, 10.0, 9.0, 8.0, 7.0, 6.0, 5.0, 4.0, 3.0, 2.0, 1.0, -2.4198, -2.4202, -2.4239, -2.4253, -2.4253, -2.4191, -2.4192, -2.4193, -2.4194, -3.8032, -3.8032, -3.8035, -3.8035, -3.8035, -3.8035, -3.8035, -3.8017, -3.8015, -2.6037, -2.6037, -2.6043, -2.6044, -2.0389, -2.0442, -2.6033, -2.6033, -2.6042, -2.6043, -3.9873, -3.9874, -3.9874, -3.9875, -3.9875, -3.9858, -3.9858, -3.9859, -2.4224, -2.4225, -2.4225, -1.8615, -2.4161, -2.4161, -2.4175, -2.43, -3.8049, -3.8064, -3.8035, -3.8036, -3.8062, -3.8062, -3.8013, -3.8019, -3.8047, -3.8048], \"loglift\": [18.0, 17.0, 16.0, 15.0, 14.0, 13.0, 12.0, 11.0, 10.0, 9.0, 8.0, 7.0, 6.0, 5.0, 4.0, 3.0, 2.0, 1.0, 0.7792, 0.7789, 0.3752, 0.3739, 0.3739, 0.3467, 0.3466, 0.3464, 0.3464, -0.6043, -0.6043, -0.6046, -0.6539, -0.654, -0.654, -0.654, -1.3376, -1.5488, 0.5458, 0.5458, 0.5452, 0.5452, 0.4252, 0.2085, 0.1625, 0.1625, 0.1616, 0.1615, -0.7883, -0.7885, -0.7885, -0.7885, -0.7885, -1.1867, -1.1867, -1.1868, 0.7765, 0.7764, 0.7764, 0.3912, 0.3831, 0.383, 0.3817, 0.0341, -0.6058, -0.6073, -0.6539, -0.6541, -0.6567, -0.6567, -1.0355, -1.0361, -1.0389, -1.039]}, \"token.table\": {\"Topic\": [3, 1, 3, 1, 3, 2, 3, 2, 3, 2, 2, 1, 1, 2, 3, 1, 2, 2, 1, 3, 1, 2, 1, 2, 1, 2, 3], \"Freq\": [0.8168727988835559, 0.5476980531507718, 0.5476980531507718, 0.5476980392951575, 0.5476980392951575, 0.7835449506165966, 0.3917724753082983, 0.6342210695434713, 0.3171105347717357, 0.7774826631517452, 0.777517803157101, 0.8169587894549595, 0.5297046716922273, 0.5297046716922273, 0.8168718214266358, 0.8169619679422554, 0.7775151305684337, 0.7774833862170668, 0.5476986687620768, 0.5476986687620768, 0.5297253417012934, 0.5297253417012934, 0.5297047651141492, 0.5297047651141492, 0.5297295970883065, 0.5297295970883065, 0.8168717412709507], \"Term\": [\"affecting\", \"arctic\", \"arctic\", \"bears\", \"bears\", \"change\", \"change\", \"climate\", \"climate\", \"crucial\", \"debates\", \"dictate\", \"economic\", \"economic\", \"experiencing\", \"found\", \"impact\", \"mitigation\", \"polar\", \"polar\", \"policies\", \"policies\", \"practices\", \"practices\", \"public\", \"public\", \"warming\"]}, \"R\": 18, \"lambda.step\": 0.01, \"plot.opts\": {\"xlab\": \"PC1\", \"ylab\": \"PC2\"}, \"topic.order\": [1, 2, 3]};\n",
       "\n",
       "function LDAvis_load_lib(url, callback){\n",
       "  var s = document.createElement('script');\n",
       "  s.src = url;\n",
       "  s.async = true;\n",
       "  s.onreadystatechange = s.onload = callback;\n",
       "  s.onerror = function(){console.warn(\"failed to load library \" + url);};\n",
       "  document.getElementsByTagName(\"head\")[0].appendChild(s);\n",
       "}\n",
       "\n",
       "if(typeof(LDAvis) !== \"undefined\"){\n",
       "   // already loaded: just create the visualization\n",
       "   !function(LDAvis){\n",
       "       new LDAvis(\"#\" + \"ldavis_el3022815993795556006822939607\", ldavis_el3022815993795556006822939607_data);\n",
       "   }(LDAvis);\n",
       "}else if(typeof define === \"function\" && define.amd){\n",
       "   // require.js is available: use it to load d3/LDAvis\n",
       "   require.config({paths: {d3: \"https://d3js.org/d3.v5\"}});\n",
       "   require([\"d3\"], function(d3){\n",
       "      window.d3 = d3;\n",
       "      LDAvis_load_lib(\"https://cdn.jsdelivr.net/gh/bmabey/pyLDAvis@3.4.0/pyLDAvis/js/ldavis.v3.0.0.js\", function(){\n",
       "        new LDAvis(\"#\" + \"ldavis_el3022815993795556006822939607\", ldavis_el3022815993795556006822939607_data);\n",
       "      });\n",
       "    });\n",
       "}else{\n",
       "    // require.js not available: dynamically load d3 & LDAvis\n",
       "    LDAvis_load_lib(\"https://d3js.org/d3.v5.js\", function(){\n",
       "         LDAvis_load_lib(\"https://cdn.jsdelivr.net/gh/bmabey/pyLDAvis@3.4.0/pyLDAvis/js/ldavis.v3.0.0.js\", function(){\n",
       "                 new LDAvis(\"#\" + \"ldavis_el3022815993795556006822939607\", ldavis_el3022815993795556006822939607_data);\n",
       "            })\n",
       "         });\n",
       "}\n",
       "</script>"
      ],
      "text/plain": [
       "<IPython.core.display.HTML object>"
      ]
     },
     "execution_count": 2,
     "metadata": {},
     "output_type": "execute_result"
    }
   ],
   "source": [
    "import nltk\n",
    "from nltk.corpus import stopwords\n",
    "from nltk.tokenize import RegexpTokenizer\n",
    "import gensim\n",
    "from gensim import corpora\n",
    "from gensim.models.ldamodel import LdaModel\n",
    "import pyLDAvis.gensim_models as gensimvis\n",
    "import pyLDAvis\n",
    "import pandas as pd\n",
    "\n",
    "# Downloading NLTK resources\n",
    "nltk.download('stopwords')\n",
    "\n",
    "# Sample data: list of documents\n",
    "documents = [\n",
    "    \"Climate change is affecting the polar bears\",\n",
    "    \"Polar bears are found in the Arctic\",\n",
    "    \"The Arctic is experiencing a warming climate\",\n",
    "    \"Climate change debates impact public policies\",\n",
    "    \"Public policies can dictate economic practices\",\n",
    "    \"Economic practices are crucial for climate change mitigation\"\n",
    "]\n",
    "\n",
    "# Tokenization and cleaning\n",
    "tokenizer = RegexpTokenizer(r'\\w+')\n",
    "stop_words = set(stopwords.words('english'))\n",
    "texts = [[word for word in tokenizer.tokenize(doc.lower()) if word not in stop_words] for doc in documents]\n",
    "\n",
    "# Create a dictionary representation of the documents\n",
    "dictionary = corpora.Dictionary(texts)\n",
    "\n",
    "# Create a document-term matrix\n",
    "corpus = [dictionary.doc2bow(text) for text in texts]\n",
    "\n",
    "# LDA model\n",
    "lda_model = LdaModel(corpus, num_topics=3, id2word=dictionary, passes=15)\n",
    "\n",
    "# Visualize the topics\n",
    "lda_display = gensimvis.prepare(lda_model, corpus, dictionary, sort_topics=False)\n",
    "pyLDAvis.display(lda_display)\n"
   ]
  },
  {
   "cell_type": "code",
   "execution_count": null,
   "id": "45c622f4",
   "metadata": {},
   "outputs": [],
   "source": []
  }
 ],
 "metadata": {
  "kernelspec": {
   "display_name": "Python 3 (ipykernel)",
   "language": "python",
   "name": "python3"
  },
  "language_info": {
   "codemirror_mode": {
    "name": "ipython",
    "version": 3
   },
   "file_extension": ".py",
   "mimetype": "text/x-python",
   "name": "python",
   "nbconvert_exporter": "python",
   "pygments_lexer": "ipython3",
   "version": "3.11.5"
  }
 },
 "nbformat": 4,
 "nbformat_minor": 5
}
